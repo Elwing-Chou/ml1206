{
  "nbformat": 4,
  "nbformat_minor": 0,
  "metadata": {
    "colab": {
      "name": "poem.ipynb",
      "provenance": [],
      "authorship_tag": "ABX9TyOnANXvCDqS1/ZtDxa2m06K",
      "include_colab_link": true
    },
    "kernelspec": {
      "name": "python3",
      "display_name": "Python 3"
    },
    "language_info": {
      "name": "python"
    }
  },
  "cells": [
    {
      "cell_type": "markdown",
      "metadata": {
        "id": "view-in-github",
        "colab_type": "text"
      },
      "source": [
        "<a href=\"https://colab.research.google.com/github/Elwing-Chou/ml1206/blob/main/poem.ipynb\" target=\"_parent\"><img src=\"https://colab.research.google.com/assets/colab-badge.svg\" alt=\"Open In Colab\"/></a>"
      ]
    },
    {
      "cell_type": "code",
      "source": [
        "import pandas as pd\n",
        "from urllib.request import urlretrieve\n",
        "\n",
        "url = \"https://github.com/Elwing-Chou/ml1206/raw/main/poem_train.csv\"\n",
        "urlretrieve(url, \"train.csv\")\n",
        "url = \"https://github.com/Elwing-Chou/ml1206/raw/main/poem_test.csv\"\n",
        "urlretrieve(url, \"test.csv\")"
      ],
      "metadata": {
        "colab": {
          "base_uri": "https://localhost:8080/"
        },
        "id": "Kg3HZnMXuK0J",
        "outputId": "17229775-d093-4fab-f418-0130e55819c6"
      },
      "execution_count": 1,
      "outputs": [
        {
          "output_type": "execute_result",
          "data": {
            "text/plain": [
              "('test.csv', <http.client.HTTPMessage at 0x7f85b1c33090>)"
            ]
          },
          "metadata": {},
          "execution_count": 1
        }
      ]
    },
    {
      "cell_type": "code",
      "source": [
        "train_df = pd.read_csv(\"train.csv\", encoding=\"utf-8\")\n",
        "test_df = pd.read_csv(\"test.csv\", encoding=\"utf-8\")"
      ],
      "metadata": {
        "id": "rcSRSCYFu64t"
      },
      "execution_count": 2,
      "outputs": []
    },
    {
      "cell_type": "code",
      "source": [
        "test_df"
      ],
      "metadata": {
        "id": "KqtrP0_cvHQs"
      },
      "execution_count": null,
      "outputs": []
    },
    {
      "cell_type": "code",
      "source": [
        "# 丟到sklearn前, x, y全部轉成數字\n",
        "# Series.replace({\"李白\":0, \"杜甫\":1})\n",
        "# Series.unique/value_counts\n",
        "poet = train_df[\"作者\"].unique()\n",
        "poet2idx = {p:i for i, p in enumerate(poet)}\n",
        "idx2poet = {i:p for i, p in enumerate(poet)}\n",
        "y_train = train_df[\"作者\"].replace(poet2idx)\n",
        "y_test = test_df[\"作者\"].replace(poet2idx)\n",
        "y_test"
      ],
      "metadata": {
        "id": "bJd5GKOmwRNk"
      },
      "execution_count": null,
      "outputs": []
    },
    {
      "cell_type": "code",
      "source": [
        "# 萬物皆物件, 萬物皆有型態\n",
        "# 字典: dic 操作: [欄位]\n",
        "# 函式: print 操作: (3)\n",
        "b = round\n",
        "b(3.2345, 3)\n",
        "def test():\n",
        "    import random\n",
        "    return random.randint\n",
        "test()(1, 10)"
      ],
      "metadata": {
        "colab": {
          "base_uri": "https://localhost:8080/"
        },
        "id": "0h2b97Xwz-eW",
        "outputId": "77563caa-120c-4eb9-91b8-2fcd3b54b28c"
      },
      "execution_count": 22,
      "outputs": [
        {
          "output_type": "execute_result",
          "data": {
            "text/plain": [
              "3"
            ]
          },
          "metadata": {},
          "execution_count": 22
        }
      ]
    },
    {
      "cell_type": "code",
      "source": [
        "class Person:\n",
        "    def __init__(self, h, w):\n",
        "        self.height = h\n",
        "        self.weight = w\n",
        "class SuperPerson:\n",
        "    def __init__(self):\n",
        "        pass\n",
        "def test(a):\n",
        "    if a > 3:\n",
        "        return Person\n",
        "    else:\n",
        "        return SuperPerson\n",
        "p = test(5)(175, 75)\n",
        "p.height"
      ],
      "metadata": {
        "colab": {
          "base_uri": "https://localhost:8080/"
        },
        "id": "Dkc3Yire1xhN",
        "outputId": "5dd07300-e845-4221-a0f1-5e2c02024519"
      },
      "execution_count": 24,
      "outputs": [
        {
          "output_type": "execute_result",
          "data": {
            "text/plain": [
              "175"
            ]
          },
          "metadata": {},
          "execution_count": 24
        }
      ]
    }
  ]
}