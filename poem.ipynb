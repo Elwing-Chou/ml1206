{
  "nbformat": 4,
  "nbformat_minor": 0,
  "metadata": {
    "colab": {
      "name": "poem.ipynb",
      "provenance": [],
      "authorship_tag": "ABX9TyOPAxPI8KcAtwmgKzqv8OfF",
      "include_colab_link": true
    },
    "kernelspec": {
      "name": "python3",
      "display_name": "Python 3"
    },
    "language_info": {
      "name": "python"
    }
  },
  "cells": [
    {
      "cell_type": "markdown",
      "metadata": {
        "id": "view-in-github",
        "colab_type": "text"
      },
      "source": [
        "<a href=\"https://colab.research.google.com/github/Elwing-Chou/ml1206/blob/main/poem.ipynb\" target=\"_parent\"><img src=\"https://colab.research.google.com/assets/colab-badge.svg\" alt=\"Open In Colab\"/></a>"
      ]
    },
    {
      "cell_type": "code",
      "source": [
        "import pandas as pd\n",
        "from urllib.request import urlretrieve\n",
        "\n",
        "url = \"https://github.com/Elwing-Chou/ml1206/raw/main/poem_train.csv\"\n",
        "urlretrieve(url, \"train.csv\")\n",
        "url = \"https://github.com/Elwing-Chou/ml1206/raw/main/poem_test.csv\"\n",
        "urlretrieve(url, \"test.csv\")"
      ],
      "metadata": {
        "colab": {
          "base_uri": "https://localhost:8080/"
        },
        "id": "Kg3HZnMXuK0J",
        "outputId": "47245e4d-62ab-4d33-863d-3ed2e9fedfc0"
      },
      "execution_count": 53,
      "outputs": [
        {
          "output_type": "execute_result",
          "data": {
            "text/plain": [
              "('test.csv', <http.client.HTTPMessage at 0x7f859f6d96d0>)"
            ]
          },
          "metadata": {},
          "execution_count": 53
        }
      ]
    },
    {
      "cell_type": "code",
      "source": [
        "train_df = pd.read_csv(\"train.csv\", encoding=\"utf-8\")\n",
        "test_df = pd.read_csv(\"test.csv\", encoding=\"utf-8\")"
      ],
      "metadata": {
        "id": "rcSRSCYFu64t"
      },
      "execution_count": 54,
      "outputs": []
    },
    {
      "cell_type": "code",
      "source": [
        "test_df"
      ],
      "metadata": {
        "colab": {
          "base_uri": "https://localhost:8080/",
          "height": 1000
        },
        "id": "KqtrP0_cvHQs",
        "outputId": "effc0c58-79c4-4c68-a198-50f5c72dc5b5"
      },
      "execution_count": 55,
      "outputs": [
        {
          "output_type": "execute_result",
          "data": {
            "text/html": [
              "<div>\n",
              "<style scoped>\n",
              "    .dataframe tbody tr th:only-of-type {\n",
              "        vertical-align: middle;\n",
              "    }\n",
              "\n",
              "    .dataframe tbody tr th {\n",
              "        vertical-align: top;\n",
              "    }\n",
              "\n",
              "    .dataframe thead th {\n",
              "        text-align: right;\n",
              "    }\n",
              "</style>\n",
              "<table border=\"1\" class=\"dataframe\">\n",
              "  <thead>\n",
              "    <tr style=\"text-align: right;\">\n",
              "      <th></th>\n",
              "      <th>作者</th>\n",
              "      <th>詩名</th>\n",
              "      <th>內容</th>\n",
              "    </tr>\n",
              "  </thead>\n",
              "  <tbody>\n",
              "    <tr>\n",
              "      <th>0</th>\n",
              "      <td>李白</td>\n",
              "      <td>望廬山瀑布</td>\n",
              "      <td>日照香爐生紫煙，遙看瀑布掛前川。飛流直下三千尺，疑是銀河落九天。</td>\n",
              "    </tr>\n",
              "    <tr>\n",
              "      <th>1</th>\n",
              "      <td>李白</td>\n",
              "      <td>早發白帝城</td>\n",
              "      <td>朝辭白帝彩雲間，千裡江陵一日還。兩岸猿聲啼不住，輕舟已過萬重山。</td>\n",
              "    </tr>\n",
              "    <tr>\n",
              "      <th>2</th>\n",
              "      <td>李白</td>\n",
              "      <td>贈汪倫</td>\n",
              "      <td>李白乘舟將欲行，忽聞岸上踏歌聲。桃花潭水深千尺，不及汪倫送我情。</td>\n",
              "    </tr>\n",
              "    <tr>\n",
              "      <th>3</th>\n",
              "      <td>李白</td>\n",
              "      <td>送孟浩然之廣陵</td>\n",
              "      <td>故人西辭黃鶴樓，煙花三月下揚州。孤帆遠影碧空儘，唯見長江天際流。</td>\n",
              "    </tr>\n",
              "    <tr>\n",
              "      <th>4</th>\n",
              "      <td>李白</td>\n",
              "      <td>夜宿山寺</td>\n",
              "      <td>危樓高百尺，手可摘星辰。不敢高聲語，恐驚天上人。</td>\n",
              "    </tr>\n",
              "    <tr>\n",
              "      <th>5</th>\n",
              "      <td>李白</td>\n",
              "      <td>靜夜思</td>\n",
              "      <td>床前明月光，疑是地上霜。舉頭望明月，低頭思故鄉。</td>\n",
              "    </tr>\n",
              "    <tr>\n",
              "      <th>6</th>\n",
              "      <td>李白</td>\n",
              "      <td>望天門山</td>\n",
              "      <td>天門中斷楚江開，碧水東流至此回。兩岸青山相對出，孤帆一片日邊來。</td>\n",
              "    </tr>\n",
              "    <tr>\n",
              "      <th>7</th>\n",
              "      <td>李白</td>\n",
              "      <td>獨坐敬亭山</td>\n",
              "      <td>眾鳥高飛儘，孤雲獨去閒。相看兩不厭，隻有敬亭山。</td>\n",
              "    </tr>\n",
              "    <tr>\n",
              "      <th>8</th>\n",
              "      <td>李白</td>\n",
              "      <td>登金陵鳳凰台</td>\n",
              "      <td>鳳凰台上鳳凰遊，鳳去台空江自流。吳宮花草埋幽徑，晉代衣冠成古丘。三山半落青天外，二水中分白鷺...</td>\n",
              "    </tr>\n",
              "    <tr>\n",
              "      <th>9</th>\n",
              "      <td>李白</td>\n",
              "      <td>渡荊門送彆</td>\n",
              "      <td>渡遠荊門外，來從楚國遊。山隨平野儘，江入大荒流。月下飛天境，雲生結海樓。仍憐故鄉水，萬裡送行舟。</td>\n",
              "    </tr>\n",
              "    <tr>\n",
              "      <th>10</th>\n",
              "      <td>杜甫</td>\n",
              "      <td>彆讚上人</td>\n",
              "      <td>百川日東流，客去亦不息。我生苦漂蕩，何時有終極。讚公釋門老，放逐來上國。還為世塵嬰，頗帶憔悴...</td>\n",
              "    </tr>\n",
              "    <tr>\n",
              "      <th>11</th>\n",
              "      <td>杜甫</td>\n",
              "      <td>龍門鎮</td>\n",
              "      <td>細泉兼輕冰，沮洳棧道濕。不辭辛苦行，迫此短景急。石門雪雲隘，古鎮峰巒集。旌竿暮慘澹，風水白刃...</td>\n",
              "    </tr>\n",
              "    <tr>\n",
              "      <th>12</th>\n",
              "      <td>杜甫</td>\n",
              "      <td>木皮嶺</td>\n",
              "      <td>首路栗亭西，尚想鳳凰村。季冬攜童稚，辛苦赴蜀門。南登木皮嶺，艱險不易論。汗流被我體，祁寒為之...</td>\n",
              "    </tr>\n",
              "    <tr>\n",
              "      <th>13</th>\n",
              "      <td>杜甫</td>\n",
              "      <td>落日</td>\n",
              "      <td>落日在簾鉤，溪邊春事幽。芳菲緣岸圃，樵爨倚灘舟。啅雀爭枝墜，飛蟲滿院遊。濁醪誰造汝，一酌散千憂。</td>\n",
              "    </tr>\n",
              "    <tr>\n",
              "      <th>14</th>\n",
              "      <td>杜甫</td>\n",
              "      <td>入奏行贈西山檢察使竇侍禦</td>\n",
              "      <td>竇侍禦，驥之子，鳳之雛。年未三十忠義俱，骨鯁絕代無。炯如一段清冰出萬壑，置在迎風寒露之玉壺。...</td>\n",
              "    </tr>\n",
              "    <tr>\n",
              "      <th>15</th>\n",
              "      <td>杜甫</td>\n",
              "      <td>麗春</td>\n",
              "      <td>百草競春華，麗春應最勝。少須好顏色，多漫枝條剩。紛紛桃李枝，處處總能移。如何貴此重，卻怕有人知。</td>\n",
              "    </tr>\n",
              "    <tr>\n",
              "      <th>16</th>\n",
              "      <td>杜甫</td>\n",
              "      <td>題玄武禪師屋壁</td>\n",
              "      <td>何年顧虎頭，滿壁畫瀛州。赤日石林氣，青天江海流。錫飛常近鶴，杯度不驚鷗。似得廬山路，真隨惠遠遊。</td>\n",
              "    </tr>\n",
              "    <tr>\n",
              "      <th>17</th>\n",
              "      <td>杜甫</td>\n",
              "      <td>謁文公上方</td>\n",
              "      <td>野寺隱喬木，山僧高下居。石門日色異，絳氣橫扶疏。窈窕入風磴，長蘆紛卷舒。庭前猛虎臥，遂得文公...</td>\n",
              "    </tr>\n",
              "    <tr>\n",
              "      <th>18</th>\n",
              "      <td>杜甫</td>\n",
              "      <td>杜鵑</td>\n",
              "      <td>西川有杜鵑，東川無杜鵑。涪萬無杜鵑，雲安有杜鵑。我昔遊錦城，結廬錦水邊。有竹一頃餘，喬木上參...</td>\n",
              "    </tr>\n",
              "    <tr>\n",
              "      <th>19</th>\n",
              "      <td>杜甫</td>\n",
              "      <td>縛雞行</td>\n",
              "      <td>小奴縛雞向市賣，雞被縛急相喧爭。家中厭雞食蟲蟻，不知雞賣還遭烹。蟲雞於人何厚薄，我斥奴人解其...</td>\n",
              "    </tr>\n",
              "    <tr>\n",
              "      <th>20</th>\n",
              "      <td>白居易</td>\n",
              "      <td>聽歌</td>\n",
              "      <td>管妙弦清歌入雲，老人合眼醉醺醺。誠知不及當年聽，猶覺聞時勝不聞。</td>\n",
              "    </tr>\n",
              "    <tr>\n",
              "      <th>21</th>\n",
              "      <td>白居易</td>\n",
              "      <td>追歡偶作</td>\n",
              "      <td>追歡逐樂少閒時，補帖平生得事遲。何處花開曾後看？誰家酒熟不先知？石樓月下吹蘆管，金穀風前舞柳...</td>\n",
              "    </tr>\n",
              "    <tr>\n",
              "      <th>22</th>\n",
              "      <td>白居易</td>\n",
              "      <td>酬夢得貧居詠懷見贈</td>\n",
              "      <td>歲陰生計兩蹉跎，相顧悠悠醉且歌。廚冷難留烏止屋，門閒可與雀張羅。[詩雲：贍烏爰止，於誰之屋？...</td>\n",
              "    </tr>\n",
              "    <tr>\n",
              "      <th>23</th>\n",
              "      <td>白居易</td>\n",
              "      <td>閒坐看書貽諸少年</td>\n",
              "      <td>雨砌長寒蕪，風庭落秋果。窗間有閒叟，儘日看書坐。書中見往事，曆曆知福禍。多取終厚亡，疾驅必先...</td>\n",
              "    </tr>\n",
              "    <tr>\n",
              "      <th>24</th>\n",
              "      <td>白居易</td>\n",
              "      <td>二年三月五日齋畢開素當食偶吟贈妻弘農郡君</td>\n",
              "      <td>睡足肢體暢，晨起開中堂。初旭泛簾幕，微風拂衣裳。二婢扶盥櫛，雙童舁簟床。庭東有茂樹，其下多陰...</td>\n",
              "    </tr>\n",
              "    <tr>\n",
              "      <th>25</th>\n",
              "      <td>白居易</td>\n",
              "      <td>履道西門二首</td>\n",
              "      <td>履道西門有弊居，池塘竹樹繞君廬。豪華肥壯雖無分，飽暖安閒即有餘。行灶朝香炊早飯，小園春暖掇新...</td>\n",
              "    </tr>\n",
              "    <tr>\n",
              "      <th>26</th>\n",
              "      <td>白居易</td>\n",
              "      <td>昨日複今辰</td>\n",
              "      <td>昨日複今辰，悠悠七十春。所經多故處，卻想似前身。散秩優遊老，閒居淨潔貧。螺杯中有物，鶴氅上無...</td>\n",
              "    </tr>\n",
              "    <tr>\n",
              "      <th>27</th>\n",
              "      <td>白居易</td>\n",
              "      <td>不與老為期</td>\n",
              "      <td>不與老為期，因何兩鬢絲？才應免夭促，便已及衰羸。昨夜夢何在，明朝身不知。百憂非我所，三樂是吾...</td>\n",
              "    </tr>\n",
              "    <tr>\n",
              "      <th>28</th>\n",
              "      <td>白居易</td>\n",
              "      <td>閒眠</td>\n",
              "      <td>暖床斜臥日曛腰，一覺閒眠百病銷。儘日一飧茶兩碗，更無所要到明朝。</td>\n",
              "    </tr>\n",
              "    <tr>\n",
              "      <th>29</th>\n",
              "      <td>白居易</td>\n",
              "      <td>和李相公留守題漕上新橋六韻　同用黎字。</td>\n",
              "      <td>選石鋪新路，安橋壓古堤。似從銀漢下，落傍玉川西。影定欄杆倒，標高華表齊。煙開虹半見，月冷鶴雙...</td>\n",
              "    </tr>\n",
              "  </tbody>\n",
              "</table>\n",
              "</div>"
            ],
            "text/plain": [
              "     作者  ...                                                 內容\n",
              "0    李白  ...                   日照香爐生紫煙，遙看瀑布掛前川。飛流直下三千尺，疑是銀河落九天。\n",
              "1    李白  ...                   朝辭白帝彩雲間，千裡江陵一日還。兩岸猿聲啼不住，輕舟已過萬重山。\n",
              "2    李白  ...                   李白乘舟將欲行，忽聞岸上踏歌聲。桃花潭水深千尺，不及汪倫送我情。\n",
              "3    李白  ...                   故人西辭黃鶴樓，煙花三月下揚州。孤帆遠影碧空儘，唯見長江天際流。\n",
              "4    李白  ...                           危樓高百尺，手可摘星辰。不敢高聲語，恐驚天上人。\n",
              "5    李白  ...                           床前明月光，疑是地上霜。舉頭望明月，低頭思故鄉。\n",
              "6    李白  ...                   天門中斷楚江開，碧水東流至此回。兩岸青山相對出，孤帆一片日邊來。\n",
              "7    李白  ...                           眾鳥高飛儘，孤雲獨去閒。相看兩不厭，隻有敬亭山。\n",
              "8    李白  ...  鳳凰台上鳳凰遊，鳳去台空江自流。吳宮花草埋幽徑，晉代衣冠成古丘。三山半落青天外，二水中分白鷺...\n",
              "9    李白  ...   渡遠荊門外，來從楚國遊。山隨平野儘，江入大荒流。月下飛天境，雲生結海樓。仍憐故鄉水，萬裡送行舟。\n",
              "10   杜甫  ...  百川日東流，客去亦不息。我生苦漂蕩，何時有終極。讚公釋門老，放逐來上國。還為世塵嬰，頗帶憔悴...\n",
              "11   杜甫  ...  細泉兼輕冰，沮洳棧道濕。不辭辛苦行，迫此短景急。石門雪雲隘，古鎮峰巒集。旌竿暮慘澹，風水白刃...\n",
              "12   杜甫  ...  首路栗亭西，尚想鳳凰村。季冬攜童稚，辛苦赴蜀門。南登木皮嶺，艱險不易論。汗流被我體，祁寒為之...\n",
              "13   杜甫  ...   落日在簾鉤，溪邊春事幽。芳菲緣岸圃，樵爨倚灘舟。啅雀爭枝墜，飛蟲滿院遊。濁醪誰造汝，一酌散千憂。\n",
              "14   杜甫  ...  竇侍禦，驥之子，鳳之雛。年未三十忠義俱，骨鯁絕代無。炯如一段清冰出萬壑，置在迎風寒露之玉壺。...\n",
              "15   杜甫  ...   百草競春華，麗春應最勝。少須好顏色，多漫枝條剩。紛紛桃李枝，處處總能移。如何貴此重，卻怕有人知。\n",
              "16   杜甫  ...   何年顧虎頭，滿壁畫瀛州。赤日石林氣，青天江海流。錫飛常近鶴，杯度不驚鷗。似得廬山路，真隨惠遠遊。\n",
              "17   杜甫  ...  野寺隱喬木，山僧高下居。石門日色異，絳氣橫扶疏。窈窕入風磴，長蘆紛卷舒。庭前猛虎臥，遂得文公...\n",
              "18   杜甫  ...  西川有杜鵑，東川無杜鵑。涪萬無杜鵑，雲安有杜鵑。我昔遊錦城，結廬錦水邊。有竹一頃餘，喬木上參...\n",
              "19   杜甫  ...  小奴縛雞向市賣，雞被縛急相喧爭。家中厭雞食蟲蟻，不知雞賣還遭烹。蟲雞於人何厚薄，我斥奴人解其...\n",
              "20  白居易  ...                   管妙弦清歌入雲，老人合眼醉醺醺。誠知不及當年聽，猶覺聞時勝不聞。\n",
              "21  白居易  ...  追歡逐樂少閒時，補帖平生得事遲。何處花開曾後看？誰家酒熟不先知？石樓月下吹蘆管，金穀風前舞柳...\n",
              "22  白居易  ...  歲陰生計兩蹉跎，相顧悠悠醉且歌。廚冷難留烏止屋，門閒可與雀張羅。[詩雲：贍烏爰止，於誰之屋？...\n",
              "23  白居易  ...  雨砌長寒蕪，風庭落秋果。窗間有閒叟，儘日看書坐。書中見往事，曆曆知福禍。多取終厚亡，疾驅必先...\n",
              "24  白居易  ...  睡足肢體暢，晨起開中堂。初旭泛簾幕，微風拂衣裳。二婢扶盥櫛，雙童舁簟床。庭東有茂樹，其下多陰...\n",
              "25  白居易  ...  履道西門有弊居，池塘竹樹繞君廬。豪華肥壯雖無分，飽暖安閒即有餘。行灶朝香炊早飯，小園春暖掇新...\n",
              "26  白居易  ...  昨日複今辰，悠悠七十春。所經多故處，卻想似前身。散秩優遊老，閒居淨潔貧。螺杯中有物，鶴氅上無...\n",
              "27  白居易  ...  不與老為期，因何兩鬢絲？才應免夭促，便已及衰羸。昨夜夢何在，明朝身不知。百憂非我所，三樂是吾...\n",
              "28  白居易  ...                   暖床斜臥日曛腰，一覺閒眠百病銷。儘日一飧茶兩碗，更無所要到明朝。\n",
              "29  白居易  ...  選石鋪新路，安橋壓古堤。似從銀漢下，落傍玉川西。影定欄杆倒，標高華表齊。煙開虹半見，月冷鶴雙...\n",
              "\n",
              "[30 rows x 3 columns]"
            ]
          },
          "metadata": {},
          "execution_count": 55
        }
      ]
    },
    {
      "cell_type": "code",
      "source": [
        "# 丟到sklearn前, x, y全部轉成數字\n",
        "# Series.replace({\"李白\":0, \"杜甫\":1})\n",
        "# Series.unique/value_counts\n",
        "poet = train_df[\"作者\"].unique()\n",
        "poet2idx = {p:i for i, p in enumerate(poet)}\n",
        "idx2poet = {i:p for i, p in enumerate(poet)}\n",
        "y_train = train_df[\"作者\"].replace(poet2idx)\n",
        "y_test = test_df[\"作者\"].replace(poet2idx)\n",
        "y_test"
      ],
      "metadata": {
        "colab": {
          "base_uri": "https://localhost:8080/"
        },
        "id": "bJd5GKOmwRNk",
        "outputId": "3305c799-59c7-4ecf-80a2-235f8e20fd02"
      },
      "execution_count": 56,
      "outputs": [
        {
          "output_type": "execute_result",
          "data": {
            "text/plain": [
              "0     0\n",
              "1     0\n",
              "2     0\n",
              "3     0\n",
              "4     0\n",
              "5     0\n",
              "6     0\n",
              "7     0\n",
              "8     0\n",
              "9     0\n",
              "10    1\n",
              "11    1\n",
              "12    1\n",
              "13    1\n",
              "14    1\n",
              "15    1\n",
              "16    1\n",
              "17    1\n",
              "18    1\n",
              "19    1\n",
              "20    2\n",
              "21    2\n",
              "22    2\n",
              "23    2\n",
              "24    2\n",
              "25    2\n",
              "26    2\n",
              "27    2\n",
              "28    2\n",
              "29    2\n",
              "Name: 作者, dtype: int64"
            ]
          },
          "metadata": {},
          "execution_count": 56
        }
      ]
    },
    {
      "cell_type": "code",
      "source": [
        "# 萬物皆物件, 萬物皆有型態\n",
        "# 字典: dic 操作: [欄位]\n",
        "# 函式: print 操作: (3)\n",
        "b = round\n",
        "b(3.2345, 3)\n",
        "def test():\n",
        "    import random\n",
        "    return random.randint\n",
        "test()(1, 10)"
      ],
      "metadata": {
        "colab": {
          "base_uri": "https://localhost:8080/"
        },
        "id": "0h2b97Xwz-eW",
        "outputId": "ac662e50-be3e-4f38-b192-384134dc14c8"
      },
      "execution_count": 57,
      "outputs": [
        {
          "output_type": "execute_result",
          "data": {
            "text/plain": [
              "10"
            ]
          },
          "metadata": {},
          "execution_count": 57
        }
      ]
    },
    {
      "cell_type": "code",
      "source": [
        "# Series.apply(函式)\n",
        "s = pd.Series([1, 2, 3])\n",
        "def change(n):\n",
        "    return n ** 2\n",
        "s.apply(change)\n",
        "s.apply(lambda n:n ** 3)"
      ],
      "metadata": {
        "colab": {
          "base_uri": "https://localhost:8080/"
        },
        "id": "6a21JKTq7pht",
        "outputId": "e6002886-9e0f-432c-9f9f-813bc320abd5"
      },
      "execution_count": 58,
      "outputs": [
        {
          "output_type": "execute_result",
          "data": {
            "text/plain": [
              "0     1\n",
              "1     8\n",
              "2    27\n",
              "dtype: int64"
            ]
          },
          "metadata": {},
          "execution_count": 58
        }
      ]
    },
    {
      "cell_type": "code",
      "source": [
        "import jieba\n",
        "def change(s):\n",
        "    return \" \".join(jieba.cut(s))\n",
        "x_train = train_df[\"內容\"].apply(change)\n",
        "# change(\"平林漠漠煙如織，寒山一帶傷心碧。\")\n",
        "x_test = test_df[\"內容\"].apply(change)\n",
        "x_test"
      ],
      "metadata": {
        "colab": {
          "base_uri": "https://localhost:8080/"
        },
        "id": "8qsZrwvz8iB4",
        "outputId": "49948503-10d7-44e5-a47c-b20b2fc9a0da"
      },
      "execution_count": 59,
      "outputs": [
        {
          "output_type": "execute_result",
          "data": {
            "text/plain": [
              "0      日照 香爐生 紫煙 ， 遙看 瀑布 掛 前川 。 飛流 直下 三千尺 ， 疑是 銀河 落九天 。\n",
              "1     朝辭 白帝 彩雲間 ， 千裡 江陵 一日 還 。 兩岸 猿聲 啼 不住 ， 輕舟 已過 萬 ...\n",
              "2      李白 乘舟 將欲行 ， 忽聞 岸上 踏歌 聲 。 桃花潭水 深 千尺 ， 不及 汪倫送 我情 。\n",
              "3       故人 西辭黃鶴樓 ， 煙花 三月 下揚州 。 孤帆 遠影 碧空 儘 ， 唯見長 江天 際流 。\n",
              "4                 危樓 高 百尺 ， 手可摘 星辰 。 不敢 高聲語 ， 恐驚 天上 人 。\n",
              "5                  床前 明月光 ， 疑是 地上 霜 。 舉頭 望明月 ， 低頭思 故鄉 。\n",
              "6     天門 中斷 楚江 開 ， 碧水 東流 至此 回 。 兩岸 青山 相對 出 ， 孤帆 一片 日...\n",
              "7               眾鳥 高 飛 儘 ， 孤雲獨 去 閒 。 相看 兩不厭 ， 隻 有 敬亭山 。\n",
              "8     鳳凰 台上 鳳凰遊 ， 鳳去 台空江 自流 。 吳宮 花草 埋 幽徑 ， 晉代 衣冠 成古丘...\n",
              "9     渡遠 荊門外 ， 來 從 楚國遊 。 山 隨 平野 儘 ， 江入 大荒 流 。 月 下 飛天...\n",
              "10    百川 日東流 ， 客去 亦 不息 。 我 生苦 漂 蕩 ， 何時 有 終極 。 讚 公 釋 ...\n",
              "11    細泉 兼 輕冰 ， 沮洳 棧道 濕 。 不辭 辛苦 行 ， 迫此 短景急 。 石門 雪雲隘 ...\n",
              "12    首路 栗亭 西 ， 尚想 鳳凰村 。 季冬 攜 童稚 ， 辛苦 赴 蜀門 。 南登 木皮 嶺...\n",
              "13    落日 在 簾 鉤 ， 溪邊 春事幽 。 芳菲 緣岸 圃 ， 樵 爨 倚灘 舟 。 啅 雀 爭...\n",
              "14    竇侍 禦 ， 驥 之子 ， 鳳之雛 。 年 未 三十 忠義俱 ， 骨鯁 絕代 無 。 炯 如...\n",
              "15    百草 競春華 ， 麗春應 最勝 。 少須 好 顏色 ， 多漫枝條 剩 。 紛紛 桃李 枝 ，...\n",
              "16    何年 顧虎頭 ， 滿壁畫 瀛州 。 赤 日 石林 氣 ， 青天 江海 流 。 錫飛常 近鶴 ...\n",
              "17    野寺 隱喬木 ， 山僧 高下 居 。 石門 日色異 ， 絳 氣橫 扶疏 。 窈窕 入風 磴 ...\n",
              "18    西川 有 杜鵑 ， 東川 無 杜鵑 。 涪萬 無 杜鵑 ， 雲安有 杜鵑 。 我 昔遊錦城 ...\n",
              "19    小奴 縛雞 向 市 賣 ， 雞 被縛 急 相 喧爭 。 家中 厭雞 食蟲 蟻 ， 不知 雞賣...\n",
              "20    管妙 弦 清歌 入 雲 ， 老人 合眼 醉醺醺 。 誠知 不及 當年 聽 ， 猶覺 聞時 勝...\n",
              "21    追歡 逐樂少 閒時 ， 補帖 平生 得事遲 。 何處 花開 曾後看 ？ 誰家 酒熟 不 先知...\n",
              "22    歲 陰生計 兩 蹉跎 ， 相顧 悠悠 醉且 歌 。 廚冷 難留 烏止 屋 ， 門閒 可 與 ...\n",
              "23    雨 砌 長 寒蕪 ， 風庭 落秋果 。 窗間 有 閒叟 ， 儘 日 看 書 坐 。 書中見 ...\n",
              "24    睡足 肢體 暢 ， 晨起 開 中堂 。 初旭泛 簾幕 ， 微風 拂 衣裳 。 二婢 扶 盥櫛...\n",
              "25    履道 西門 有 弊居 ， 池塘 竹樹繞 君廬 。 豪華肥壯 雖無分 ， 飽暖安閒 即 有 餘...\n",
              "26    昨日 複 今辰 ， 悠悠 七十 春 。 所經 多 故處 ， 卻 想 似 前身 。 散 秩優遊...\n",
              "27    不 與 老為期 ， 因何 兩鬢絲 ？ 才 應免 夭促 ， 便 已 及 衰 羸 。 昨夜 夢 ...\n",
              "28    暖床 斜 臥日 曛 腰 ， 一覺 閒眠 百病 銷 。 儘 日 一 飧 茶 兩 碗 ， 更無所...\n",
              "29    選石 鋪 新路 ， 安橋 壓古堤 。 似 從 銀漢下 ， 落傍玉 川西 。 影定 欄杆 倒 ...\n",
              "Name: 內容, dtype: object"
            ]
          },
          "metadata": {},
          "execution_count": 59
        }
      ]
    },
    {
      "cell_type": "code",
      "source": [
        "from sklearn.feature_extraction.text import CountVectorizer\n",
        "vec = CountVectorizer()\n",
        "vec.fit(x_train)\n",
        "# vec.vocabulary_\n",
        "x_train_count = vec.transform(x_train)\n",
        "x_test_count = vec.transform(x_test)"
      ],
      "metadata": {
        "id": "ywLSg1p--ooo"
      },
      "execution_count": 60,
      "outputs": []
    },
    {
      "cell_type": "code",
      "source": [
        "# print(x_train_count)\n",
        "x_train_count"
      ],
      "metadata": {
        "colab": {
          "base_uri": "https://localhost:8080/"
        },
        "id": "W2ZnnbLpBHqP",
        "outputId": "9714f90e-50a3-468c-ec20-e2b2da0a464e"
      },
      "execution_count": 61,
      "outputs": [
        {
          "output_type": "execute_result",
          "data": {
            "text/plain": [
              "<2731x52294 sparse matrix of type '<class 'numpy.int64'>'\n",
              "\twith 85677 stored elements in Compressed Sparse Row format>"
            ]
          },
          "metadata": {},
          "execution_count": 61
        }
      ]
    },
    {
      "cell_type": "code",
      "source": [
        "# 確定一下換行, 全形標點\n",
        "# vec.vocabulary_[\"。\"]"
      ],
      "metadata": {
        "id": "IrnG7lVyd4Dn"
      },
      "execution_count": 67,
      "outputs": []
    },
    {
      "cell_type": "code",
      "source": [
        "from sklearn.naive_bayes import MultinomialNB\n",
        "clf = MultinomialNB()\n",
        "clf.fit(x_train_count, y_train)"
      ],
      "metadata": {
        "colab": {
          "base_uri": "https://localhost:8080/"
        },
        "id": "yeD1zNh6dnUM",
        "outputId": "b62523c6-cebd-4b69-ff07-3571befd7144"
      },
      "execution_count": 68,
      "outputs": [
        {
          "output_type": "execute_result",
          "data": {
            "text/plain": [
              "MultinomialNB()"
            ]
          },
          "metadata": {},
          "execution_count": 68
        }
      ]
    },
    {
      "cell_type": "code",
      "source": [
        "pre = clf.predict(x_test_count)"
      ],
      "metadata": {
        "id": "YDr1TlS2fxRs"
      },
      "execution_count": null,
      "outputs": []
    },
    {
      "cell_type": "code",
      "source": [
        "from sklearn.metrics import confusion_matrix\n",
        "pd.DataFrame(confusion_matrix(y_test, pre),\n",
        "             columns=[\"{}(預測)\".format(p) for p in poet],\n",
        "             index=[\"{}(正確)\".format(p) for p in poet])"
      ],
      "metadata": {
        "colab": {
          "base_uri": "https://localhost:8080/",
          "height": 143
        },
        "id": "2Hric_jhfVBz",
        "outputId": "f03d8cc4-049d-44ec-83f9-ee14a6bb3b9a"
      },
      "execution_count": 73,
      "outputs": [
        {
          "output_type": "execute_result",
          "data": {
            "text/html": [
              "<div>\n",
              "<style scoped>\n",
              "    .dataframe tbody tr th:only-of-type {\n",
              "        vertical-align: middle;\n",
              "    }\n",
              "\n",
              "    .dataframe tbody tr th {\n",
              "        vertical-align: top;\n",
              "    }\n",
              "\n",
              "    .dataframe thead th {\n",
              "        text-align: right;\n",
              "    }\n",
              "</style>\n",
              "<table border=\"1\" class=\"dataframe\">\n",
              "  <thead>\n",
              "    <tr style=\"text-align: right;\">\n",
              "      <th></th>\n",
              "      <th>李白(預測)</th>\n",
              "      <th>杜甫(預測)</th>\n",
              "      <th>白居易(預測)</th>\n",
              "    </tr>\n",
              "  </thead>\n",
              "  <tbody>\n",
              "    <tr>\n",
              "      <th>李白(正確)</th>\n",
              "      <td>8</td>\n",
              "      <td>1</td>\n",
              "      <td>1</td>\n",
              "    </tr>\n",
              "    <tr>\n",
              "      <th>杜甫(正確)</th>\n",
              "      <td>1</td>\n",
              "      <td>8</td>\n",
              "      <td>1</td>\n",
              "    </tr>\n",
              "    <tr>\n",
              "      <th>白居易(正確)</th>\n",
              "      <td>1</td>\n",
              "      <td>1</td>\n",
              "      <td>8</td>\n",
              "    </tr>\n",
              "  </tbody>\n",
              "</table>\n",
              "</div>"
            ],
            "text/plain": [
              "         李白(預測)  杜甫(預測)  白居易(預測)\n",
              "李白(正確)        8       1        1\n",
              "杜甫(正確)        1       8        1\n",
              "白居易(正確)       1       1        8"
            ]
          },
          "metadata": {},
          "execution_count": 73
        }
      ]
    },
    {
      "cell_type": "code",
      "source": [
        "from sklearn.metrics import accuracy_score\n",
        "accuracy_score(pre, y_test)"
      ],
      "metadata": {
        "colab": {
          "base_uri": "https://localhost:8080/"
        },
        "id": "lAAh_aAJecmU",
        "outputId": "56076f77-27f8-4822-8cff-e0448a95fcbe"
      },
      "execution_count": 69,
      "outputs": [
        {
          "output_type": "execute_result",
          "data": {
            "text/plain": [
              "0.8"
            ]
          },
          "metadata": {},
          "execution_count": 69
        }
      ]
    },
    {
      "cell_type": "code",
      "source": [
        "poem = \"\\u7A7A\\u5C71\\u65B0\\u96E8\\u5F8C\\uFF0C\\u5929\\u6C23\\u665A\\u4F86\\u79CB\\u3002     \\u660E\\u6708\\u677E\\u9593\\u7167\\uFF0C\\u6E05\\u6CC9\\u77F3\\u4E0A\\u6D41\\u3002  \\u7AF9\\u55A7\\u6B78\\u6D63\\u5973\\uFF0C\\u84EE\\u52D5\\u4E0B\\u6F01\\u821F\\u3002  \\u96A8\\u610F\\u6625\\u82B3\\u6B47\\uFF0C\\u738B\\u5B6B\\u81EA\\u53EF\\u7559\\u3002\"#@param {type:\"string\"}\n",
        "count = vec.transform([change(poem)])\n",
        "prob = clf.predict_proba(count)[0]\n",
        "for p, b in zip(poet, prob):\n",
        "    print(p, \"的機率:\", b)"
      ],
      "metadata": {
        "colab": {
          "base_uri": "https://localhost:8080/"
        },
        "id": "TQym2bCriaM2",
        "outputId": "100258ac-9265-4a7e-ee08-12c4c22dc7f1"
      },
      "execution_count": 80,
      "outputs": [
        {
          "output_type": "stream",
          "name": "stdout",
          "text": [
            "李白 的機率: 0.5211041265902139\n",
            "杜甫 的機率: 0.448363390267756\n",
            "白居易 的機率: 0.030532483142032274\n"
          ]
        }
      ]
    },
    {
      "cell_type": "code",
      "source": [
        "list(zip([1, 2, 3], [4, 5, 6], [7, 8, 9]))"
      ],
      "metadata": {
        "colab": {
          "base_uri": "https://localhost:8080/"
        },
        "id": "IQWjtFzMkCgc",
        "outputId": "fb04a1a0-f90a-40ed-a8bd-e431bbcc6b6b"
      },
      "execution_count": 78,
      "outputs": [
        {
          "output_type": "execute_result",
          "data": {
            "text/plain": [
              "[(1, 4, 7), (2, 5, 8), (3, 6, 9)]"
            ]
          },
          "metadata": {},
          "execution_count": 78
        }
      ]
    }
  ]
}