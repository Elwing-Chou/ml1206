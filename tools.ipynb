{
  "nbformat": 4,
  "nbformat_minor": 0,
  "metadata": {
    "colab": {
      "name": "tools.ipynb",
      "provenance": [],
      "authorship_tag": "ABX9TyN5PqjtkHDF/Ae5V+gOR2yg",
      "include_colab_link": true
    },
    "kernelspec": {
      "name": "python3",
      "display_name": "Python 3"
    },
    "language_info": {
      "name": "python"
    }
  },
  "cells": [
    {
      "cell_type": "markdown",
      "metadata": {
        "id": "view-in-github",
        "colab_type": "text"
      },
      "source": [
        "<a href=\"https://colab.research.google.com/github/Elwing-Chou/ml1206/blob/main/tools.ipynb\" target=\"_parent\"><img src=\"https://colab.research.google.com/assets/colab-badge.svg\" alt=\"Open In Colab\"/></a>"
      ]
    },
    {
      "cell_type": "code",
      "execution_count": 1,
      "metadata": {
        "id": "Ip700YDABD5m",
        "colab": {
          "base_uri": "https://localhost:8080/"
        },
        "outputId": "53ee075f-f7a0-4465-81c3-00d5501bd794"
      },
      "outputs": [
        {
          "output_type": "stream",
          "name": "stdout",
          "text": [
            "Collecting opencc-python-reimplemented\n",
            "  Downloading opencc-python-reimplemented-0.1.6.tar.gz (484 kB)\n",
            "\u001b[?25l\r\u001b[K     |▊                               | 10 kB 25.8 MB/s eta 0:00:01\r\u001b[K     |█▍                              | 20 kB 32.4 MB/s eta 0:00:01\r\u001b[K     |██                              | 30 kB 32.3 MB/s eta 0:00:01\r\u001b[K     |██▊                             | 40 kB 35.7 MB/s eta 0:00:01\r\u001b[K     |███▍                            | 51 kB 26.1 MB/s eta 0:00:01\r\u001b[K     |████                            | 61 kB 27.5 MB/s eta 0:00:01\r\u001b[K     |████▊                           | 71 kB 18.8 MB/s eta 0:00:01\r\u001b[K     |█████▍                          | 81 kB 19.1 MB/s eta 0:00:01\r\u001b[K     |██████                          | 92 kB 20.6 MB/s eta 0:00:01\r\u001b[K     |██████▊                         | 102 kB 22.1 MB/s eta 0:00:01\r\u001b[K     |███████▍                        | 112 kB 22.1 MB/s eta 0:00:01\r\u001b[K     |████████▏                       | 122 kB 22.1 MB/s eta 0:00:01\r\u001b[K     |████████▉                       | 133 kB 22.1 MB/s eta 0:00:01\r\u001b[K     |█████████▌                      | 143 kB 22.1 MB/s eta 0:00:01\r\u001b[K     |██████████▏                     | 153 kB 22.1 MB/s eta 0:00:01\r\u001b[K     |██████████▉                     | 163 kB 22.1 MB/s eta 0:00:01\r\u001b[K     |███████████▌                    | 174 kB 22.1 MB/s eta 0:00:01\r\u001b[K     |████████████▏                   | 184 kB 22.1 MB/s eta 0:00:01\r\u001b[K     |████████████▉                   | 194 kB 22.1 MB/s eta 0:00:01\r\u001b[K     |█████████████▌                  | 204 kB 22.1 MB/s eta 0:00:01\r\u001b[K     |██████████████▏                 | 215 kB 22.1 MB/s eta 0:00:01\r\u001b[K     |██████████████▉                 | 225 kB 22.1 MB/s eta 0:00:01\r\u001b[K     |███████████████▌                | 235 kB 22.1 MB/s eta 0:00:01\r\u001b[K     |████████████████▎               | 245 kB 22.1 MB/s eta 0:00:01\r\u001b[K     |█████████████████               | 256 kB 22.1 MB/s eta 0:00:01\r\u001b[K     |█████████████████▋              | 266 kB 22.1 MB/s eta 0:00:01\r\u001b[K     |██████████████████▎             | 276 kB 22.1 MB/s eta 0:00:01\r\u001b[K     |███████████████████             | 286 kB 22.1 MB/s eta 0:00:01\r\u001b[K     |███████████████████▋            | 296 kB 22.1 MB/s eta 0:00:01\r\u001b[K     |████████████████████▎           | 307 kB 22.1 MB/s eta 0:00:01\r\u001b[K     |█████████████████████           | 317 kB 22.1 MB/s eta 0:00:01\r\u001b[K     |█████████████████████▋          | 327 kB 22.1 MB/s eta 0:00:01\r\u001b[K     |██████████████████████▎         | 337 kB 22.1 MB/s eta 0:00:01\r\u001b[K     |███████████████████████         | 348 kB 22.1 MB/s eta 0:00:01\r\u001b[K     |███████████████████████▊        | 358 kB 22.1 MB/s eta 0:00:01\r\u001b[K     |████████████████████████▍       | 368 kB 22.1 MB/s eta 0:00:01\r\u001b[K     |█████████████████████████       | 378 kB 22.1 MB/s eta 0:00:01\r\u001b[K     |█████████████████████████▊      | 389 kB 22.1 MB/s eta 0:00:01\r\u001b[K     |██████████████████████████▍     | 399 kB 22.1 MB/s eta 0:00:01\r\u001b[K     |███████████████████████████     | 409 kB 22.1 MB/s eta 0:00:01\r\u001b[K     |███████████████████████████▊    | 419 kB 22.1 MB/s eta 0:00:01\r\u001b[K     |████████████████████████████▍   | 430 kB 22.1 MB/s eta 0:00:01\r\u001b[K     |█████████████████████████████   | 440 kB 22.1 MB/s eta 0:00:01\r\u001b[K     |█████████████████████████████▊  | 450 kB 22.1 MB/s eta 0:00:01\r\u001b[K     |██████████████████████████████▍ | 460 kB 22.1 MB/s eta 0:00:01\r\u001b[K     |███████████████████████████████ | 471 kB 22.1 MB/s eta 0:00:01\r\u001b[K     |███████████████████████████████▉| 481 kB 22.1 MB/s eta 0:00:01\r\u001b[K     |████████████████████████████████| 484 kB 22.1 MB/s \n",
            "\u001b[?25hBuilding wheels for collected packages: opencc-python-reimplemented\n",
            "  Building wheel for opencc-python-reimplemented (setup.py) ... \u001b[?25l\u001b[?25hdone\n",
            "  Created wheel for opencc-python-reimplemented: filename=opencc_python_reimplemented-0.1.6-py2.py3-none-any.whl size=486150 sha256=ffafb5ce5fe1ccee9a343c06f19cdba70a10947bab5be60979ea63c22c423e72\n",
            "  Stored in directory: /root/.cache/pip/wheels/4e/e2/60/d062d260be08788bb389521544a8fc173de9a9a78d6a593344\n",
            "Successfully built opencc-python-reimplemented\n",
            "Installing collected packages: opencc-python-reimplemented\n",
            "Successfully installed opencc-python-reimplemented-0.1.6\n"
          ]
        }
      ],
      "source": [
        "!pip install opencc-python-reimplemented"
      ]
    },
    {
      "cell_type": "code",
      "source": [
        "from opencc import OpenCC\n",
        "cc = OpenCC('s2tw')  \n",
        "with open(\"test.txt\", \"r\", encoding=\"utf-8\") as f:\n",
        "    to_convert = f.read()\n",
        "converted = cc.convert(to_convert)\n",
        "converted"
      ],
      "metadata": {
        "id": "iI_WwURMBmzS"
      },
      "execution_count": null,
      "outputs": []
    },
    {
      "cell_type": "code",
      "source": [
        "news = \"\"\"林秉樞施暴民進黨立委高嘉瑜案，被挖出藏在背後的是綠營網軍產業疑雲，民進黨前發言人顏若芳7日卻在臉書發文稱「政府從未養網軍也不可能養網軍」，但網友就貼出過去副總統賴清德對總統蔡英文喊話的內容，希望網軍停止不實的抹黑，反問「你的意思是副總統造謠嗎？」\n",
        "\n",
        "\n",
        "林秉樞施暴案被揪出後，許多人懷疑林秉樞是綠營網軍，甚至可能是網軍頭，台北市長柯文哲日前就表示「執政者、有權力的人怎麼節制自己的權利」，並號召民眾「一人一信」，希望行政院長蘇貞昌嚴查網軍。\n",
        "\n",
        "顏若芳為此在臉書發文回擊，稱「政府從未養網軍也不可能養網軍」，認為柯文哲說別人之前應該要先看看自己，並提到過去柯文哲就被爆料與網軍開會，讓網軍一起參與決策，強調「『養網軍』這件事就跟政府預算一樣攤在陽光下。要說別人之前，請先自身開始檢視。從自身開始做起才是有邏輯的SOP」。\"\"\""
      ],
      "metadata": {
        "id": "5lzmjh99kl7P"
      },
      "execution_count": 3,
      "outputs": []
    },
    {
      "cell_type": "code",
      "source": [
        "import jieba\n",
        "from urllib.request import urlretrieve\n",
        "url = \"https://github.com/fxsjy/jieba/raw/master/extra_dict/dict.txt.big\"\n",
        "urlretrieve(url, \"dict.txt.big\")\n",
        "jieba.set_dictionary(\"dict.txt.big\")\n",
        "jieba.load_userdict(\"politics.txt\")\n",
        "\" \".join(jieba.cut(news))"
      ],
      "metadata": {
        "colab": {
          "base_uri": "https://localhost:8080/",
          "height": 200
        },
        "id": "9HF6kTt_lYdV",
        "outputId": "2673131c-74d0-4037-e9af-edbb4f3667a4"
      },
      "execution_count": 10,
      "outputs": [
        {
          "output_type": "stream",
          "name": "stderr",
          "text": [
            "Building prefix dict from /content/dict.txt.big ...\n",
            "Dumping model to file cache /tmp/jieba.u501edca284da514cb68b53a20324f4e3.cache\n",
            "Loading model cost 1.799 seconds.\n",
            "Prefix dict has been built successfully.\n"
          ]
        },
        {
          "output_type": "execute_result",
          "data": {
            "application/vnd.google.colaboratory.intrinsic+json": {
              "type": "string"
            },
            "text/plain": [
              "'林秉樞 施暴 民進黨 立委 高嘉瑜 案 ， 被 挖出 藏 在 背後 的 是 綠營 網軍 產業 疑雲 ， 民進黨 前 發言人 顏若芳 7 日 卻 在 臉書 發文 稱 「 政府 從未 養 網軍 也 不 可能 養 網軍 」 ， 但 網友 就 貼 出 過去 副總統 賴清德 對 總統 蔡英文 喊話 的 內容 ， 希望 網軍 停止 不實 的 抹黑 ， 反問 「 你 的 意思 是 副總統 造謠 嗎 ？ 」 \\n \\n \\n 林秉樞 施暴 案 被 揪出 後 ， 許多 人 懷疑 林秉樞 是 綠營 網軍 ， 甚至 可能 是 網軍 頭 ， 台北 市長 柯文哲 日前 就 表示 「 執政者 、 有 權力 的 人 怎麼 節制 自己 的 權利 」 ， 並 號召 民眾 「 一人 一信 」 ， 希望 行政院長 蘇貞昌 嚴查 網軍 。 \\n \\n 顏若芳 為 此 在 臉書 發文 回擊 ， 稱 「 政府 從未 養 網軍 也 不 可能 養 網軍 」 ， 認為 柯文哲 說 別人 之前 應該 要 先 看看 自己 ， 並 提到 過去 柯文哲 就 被 爆料 與 網軍 開會 ， 讓 網軍 一起 參與 決策 ， 強調 「 『 養 網軍 』 這件 事 就 跟 政府 預算 一樣 攤 在 陽光 下 。 要說 別人 之前 ， 請 先 自身 開始 檢視 。 從 自身 開始 做起 才 是 有 邏輯 的 SOP 」 。'"
            ]
          },
          "metadata": {},
          "execution_count": 10
        }
      ]
    },
    {
      "cell_type": "code",
      "source": [
        "import jieba.analyse\n",
        "jieba.analyse.extract_tags(news)\n",
        "jieba.analyse.extract_tags(news, topK=None)\n",
        "jieba.analyse.extract_tags(news, topK=10, withWeight=True)\n",
        "jieba.analyse.extract_tags(news, topK=20, allowPOS=[\"nr\", \"nz\", \"ns\", \"nt\"])"
      ],
      "metadata": {
        "colab": {
          "base_uri": "https://localhost:8080/"
        },
        "id": "Z9kiCeI0kwF1",
        "outputId": "48fdcd58-5af7-4858-c4bd-40f80ed8f75c"
      },
      "execution_count": 17,
      "outputs": [
        {
          "output_type": "execute_result",
          "data": {
            "text/plain": [
              "['林秉', '柯文哲', '顏若芳', '施暴', '高嘉瑜', '賴清德', '蔡英文', '台北']"
            ]
          },
          "metadata": {},
          "execution_count": 17
        }
      ]
    }
  ]
}