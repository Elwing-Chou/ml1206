{
  "nbformat": 4,
  "nbformat_minor": 0,
  "metadata": {
    "colab": {
      "name": "tools.ipynb",
      "provenance": [],
      "authorship_tag": "ABX9TyOgKo8ykU/NAL8iFKxl7wu6",
      "include_colab_link": true
    },
    "kernelspec": {
      "name": "python3",
      "display_name": "Python 3"
    },
    "language_info": {
      "name": "python"
    }
  },
  "cells": [
    {
      "cell_type": "markdown",
      "metadata": {
        "id": "view-in-github",
        "colab_type": "text"
      },
      "source": [
        "<a href=\"https://colab.research.google.com/github/Elwing-Chou/ml1206/blob/main/tools.ipynb\" target=\"_parent\"><img src=\"https://colab.research.google.com/assets/colab-badge.svg\" alt=\"Open In Colab\"/></a>"
      ]
    },
    {
      "cell_type": "code",
      "execution_count": 1,
      "metadata": {
        "id": "Ip700YDABD5m",
        "colab": {
          "base_uri": "https://localhost:8080/"
        },
        "outputId": "53ee075f-f7a0-4465-81c3-00d5501bd794"
      },
      "outputs": [
        {
          "output_type": "stream",
          "name": "stdout",
          "text": [
            "Collecting opencc-python-reimplemented\n",
            "  Downloading opencc-python-reimplemented-0.1.6.tar.gz (484 kB)\n",
            "\u001b[?25l\r\u001b[K     |▊                               | 10 kB 25.8 MB/s eta 0:00:01\r\u001b[K     |█▍                              | 20 kB 32.4 MB/s eta 0:00:01\r\u001b[K     |██                              | 30 kB 32.3 MB/s eta 0:00:01\r\u001b[K     |██▊                             | 40 kB 35.7 MB/s eta 0:00:01\r\u001b[K     |███▍                            | 51 kB 26.1 MB/s eta 0:00:01\r\u001b[K     |████                            | 61 kB 27.5 MB/s eta 0:00:01\r\u001b[K     |████▊                           | 71 kB 18.8 MB/s eta 0:00:01\r\u001b[K     |█████▍                          | 81 kB 19.1 MB/s eta 0:00:01\r\u001b[K     |██████                          | 92 kB 20.6 MB/s eta 0:00:01\r\u001b[K     |██████▊                         | 102 kB 22.1 MB/s eta 0:00:01\r\u001b[K     |███████▍                        | 112 kB 22.1 MB/s eta 0:00:01\r\u001b[K     |████████▏                       | 122 kB 22.1 MB/s eta 0:00:01\r\u001b[K     |████████▉                       | 133 kB 22.1 MB/s eta 0:00:01\r\u001b[K     |█████████▌                      | 143 kB 22.1 MB/s eta 0:00:01\r\u001b[K     |██████████▏                     | 153 kB 22.1 MB/s eta 0:00:01\r\u001b[K     |██████████▉                     | 163 kB 22.1 MB/s eta 0:00:01\r\u001b[K     |███████████▌                    | 174 kB 22.1 MB/s eta 0:00:01\r\u001b[K     |████████████▏                   | 184 kB 22.1 MB/s eta 0:00:01\r\u001b[K     |████████████▉                   | 194 kB 22.1 MB/s eta 0:00:01\r\u001b[K     |█████████████▌                  | 204 kB 22.1 MB/s eta 0:00:01\r\u001b[K     |██████████████▏                 | 215 kB 22.1 MB/s eta 0:00:01\r\u001b[K     |██████████████▉                 | 225 kB 22.1 MB/s eta 0:00:01\r\u001b[K     |███████████████▌                | 235 kB 22.1 MB/s eta 0:00:01\r\u001b[K     |████████████████▎               | 245 kB 22.1 MB/s eta 0:00:01\r\u001b[K     |█████████████████               | 256 kB 22.1 MB/s eta 0:00:01\r\u001b[K     |█████████████████▋              | 266 kB 22.1 MB/s eta 0:00:01\r\u001b[K     |██████████████████▎             | 276 kB 22.1 MB/s eta 0:00:01\r\u001b[K     |███████████████████             | 286 kB 22.1 MB/s eta 0:00:01\r\u001b[K     |███████████████████▋            | 296 kB 22.1 MB/s eta 0:00:01\r\u001b[K     |████████████████████▎           | 307 kB 22.1 MB/s eta 0:00:01\r\u001b[K     |█████████████████████           | 317 kB 22.1 MB/s eta 0:00:01\r\u001b[K     |█████████████████████▋          | 327 kB 22.1 MB/s eta 0:00:01\r\u001b[K     |██████████████████████▎         | 337 kB 22.1 MB/s eta 0:00:01\r\u001b[K     |███████████████████████         | 348 kB 22.1 MB/s eta 0:00:01\r\u001b[K     |███████████████████████▊        | 358 kB 22.1 MB/s eta 0:00:01\r\u001b[K     |████████████████████████▍       | 368 kB 22.1 MB/s eta 0:00:01\r\u001b[K     |█████████████████████████       | 378 kB 22.1 MB/s eta 0:00:01\r\u001b[K     |█████████████████████████▊      | 389 kB 22.1 MB/s eta 0:00:01\r\u001b[K     |██████████████████████████▍     | 399 kB 22.1 MB/s eta 0:00:01\r\u001b[K     |███████████████████████████     | 409 kB 22.1 MB/s eta 0:00:01\r\u001b[K     |███████████████████████████▊    | 419 kB 22.1 MB/s eta 0:00:01\r\u001b[K     |████████████████████████████▍   | 430 kB 22.1 MB/s eta 0:00:01\r\u001b[K     |█████████████████████████████   | 440 kB 22.1 MB/s eta 0:00:01\r\u001b[K     |█████████████████████████████▊  | 450 kB 22.1 MB/s eta 0:00:01\r\u001b[K     |██████████████████████████████▍ | 460 kB 22.1 MB/s eta 0:00:01\r\u001b[K     |███████████████████████████████ | 471 kB 22.1 MB/s eta 0:00:01\r\u001b[K     |███████████████████████████████▉| 481 kB 22.1 MB/s eta 0:00:01\r\u001b[K     |████████████████████████████████| 484 kB 22.1 MB/s \n",
            "\u001b[?25hBuilding wheels for collected packages: opencc-python-reimplemented\n",
            "  Building wheel for opencc-python-reimplemented (setup.py) ... \u001b[?25l\u001b[?25hdone\n",
            "  Created wheel for opencc-python-reimplemented: filename=opencc_python_reimplemented-0.1.6-py2.py3-none-any.whl size=486150 sha256=ffafb5ce5fe1ccee9a343c06f19cdba70a10947bab5be60979ea63c22c423e72\n",
            "  Stored in directory: /root/.cache/pip/wheels/4e/e2/60/d062d260be08788bb389521544a8fc173de9a9a78d6a593344\n",
            "Successfully built opencc-python-reimplemented\n",
            "Installing collected packages: opencc-python-reimplemented\n",
            "Successfully installed opencc-python-reimplemented-0.1.6\n"
          ]
        }
      ],
      "source": [
        "!pip install opencc-python-reimplemented"
      ]
    },
    {
      "cell_type": "code",
      "source": [
        "from opencc import OpenCC\n",
        "cc = OpenCC('s2tw')  \n",
        "with open(\"test.txt\", \"r\", encoding=\"utf-8\") as f:\n",
        "    to_convert = f.read()\n",
        "converted = cc.convert(to_convert)\n",
        "converted"
      ],
      "metadata": {
        "id": "iI_WwURMBmzS"
      },
      "execution_count": null,
      "outputs": []
    },
    {
      "cell_type": "code",
      "source": [
        "news = \"\"\"林秉樞施暴民進黨立委高嘉瑜案，被挖出藏在背後的是綠營網軍產業疑雲，民進黨前發言人顏若芳7日卻在臉書發文稱「政府從未養網軍也不可能養網軍」，但網友就貼出過去副總統賴清德對總統蔡英文喊話的內容，希望網軍停止不實的抹黑，反問「你的意思是副總統造謠嗎？」\n",
        "\n",
        "\n",
        "林秉樞施暴案被揪出後，許多人懷疑林秉樞是綠營網軍，甚至可能是網軍頭，台北市長柯文哲日前就表示「執政者、有權力的人怎麼節制自己的權利」，並號召民眾「一人一信」，希望行政院長蘇貞昌嚴查網軍。\n",
        "\n",
        "顏若芳為此在臉書發文回擊，稱「政府從未養網軍也不可能養網軍」，認為柯文哲說別人之前應該要先看看自己，並提到過去柯文哲就被爆料與網軍開會，讓網軍一起參與決策，強調「『養網軍』這件事就跟政府預算一樣攤在陽光下。要說別人之前，請先自身開始檢視。從自身開始做起才是有邏輯的SOP」。\"\"\""
      ],
      "metadata": {
        "id": "5lzmjh99kl7P"
      },
      "execution_count": 3,
      "outputs": []
    },
    {
      "cell_type": "code",
      "source": [
        "import jieba\n",
        "\" \".join(jieba.cut(news))"
      ],
      "metadata": {
        "id": "9HF6kTt_lYdV"
      },
      "execution_count": null,
      "outputs": []
    },
    {
      "cell_type": "code",
      "source": [
        "import jieba.analyse\n",
        "jieba.analyse.extract_tags(news)"
      ],
      "metadata": {
        "id": "Z9kiCeI0kwF1"
      },
      "execution_count": null,
      "outputs": []
    }
  ]
}