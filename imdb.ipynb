{
  "nbformat": 4,
  "nbformat_minor": 0,
  "metadata": {
    "colab": {
      "name": "imdb.ipynb",
      "provenance": [],
      "authorship_tag": "ABX9TyMX4RwcK7cG2wg+ThA+ZgPN",
      "include_colab_link": true
    },
    "kernelspec": {
      "name": "python3",
      "display_name": "Python 3"
    },
    "language_info": {
      "name": "python"
    }
  },
  "cells": [
    {
      "cell_type": "markdown",
      "metadata": {
        "id": "view-in-github",
        "colab_type": "text"
      },
      "source": [
        "<a href=\"https://colab.research.google.com/github/Elwing-Chou/ml1206/blob/main/imdb.ipynb\" target=\"_parent\"><img src=\"https://colab.research.google.com/assets/colab-badge.svg\" alt=\"Open In Colab\"/></a>"
      ]
    },
    {
      "cell_type": "code",
      "execution_count": null,
      "metadata": {
        "id": "bBRq5D-pxGsy"
      },
      "outputs": [],
      "source": [
        "import tensorflow as tf\n",
        "\n",
        "dataset = tf.keras.utils.get_file(\n",
        "    fname=\"aclImdb.tar.gz\", \n",
        "    origin=\"http://ai.stanford.edu/~amaas/data/sentiment/aclImdb_v1.tar.gz\", \n",
        "    extract=True,\n",
        ")"
      ]
    },
    {
      "cell_type": "code",
      "source": [
        "import glob\n",
        "dn = os.path.dirname(dataset)\n",
        "glob.glob(\"/root/.keras/datasets/aclImdb/train/pos/*\")"
      ],
      "metadata": {
        "id": "lBhN2ZqEz1cQ"
      },
      "execution_count": null,
      "outputs": []
    },
    {
      "cell_type": "code",
      "source": [
        "import os\n",
        "import glob\n",
        "import pandas as pd\n",
        "def getdata(mid):\n",
        "    dn = os.path.dirname(dataset)\n",
        "    posfn = glob.glob(os.path.join(dn, \"aclImdb\", mid, \"pos\", \"*\"))\n",
        "    negfn = glob.glob(os.path.join(dn, \"aclImdb\", mid, \"neg\", \"*\"))\n",
        "    contents = []\n",
        "    for fn in posfn + negfn:\n",
        "        with open(fn, encoding=\"utf-8\") as f:\n",
        "            contents.append(f.read())\n",
        "    df = pd.DataFrame({\n",
        "        \"content\":contents,\n",
        "        \"sentiment\":[1] * len(posfn) + [0] * len(negfn)\n",
        "    })\n",
        "    return df"
      ],
      "metadata": {
        "id": "J2DJSrbByS5K"
      },
      "execution_count": 2,
      "outputs": []
    },
    {
      "cell_type": "code",
      "source": [
        "train_df = getdata(\"train\")\n",
        "test_df = getdata(\"test\")"
      ],
      "metadata": {
        "id": "dx6JBTOayT0K"
      },
      "execution_count": 3,
      "outputs": []
    },
    {
      "cell_type": "code",
      "source": [
        "test_df"
      ],
      "metadata": {
        "id": "r-aB98IcyY4B"
      },
      "execution_count": null,
      "outputs": []
    },
    {
      "cell_type": "code",
      "source": [
        "# 1. tokenize\n",
        "from tensorflow.keras.preprocessing.text import Tokenizer\n",
        "tok = Tokenizer(num_words=3000)\n",
        "tok.fit_on_texts(train_df[\"content\"])"
      ],
      "metadata": {
        "id": "Nh0NU9th87tt"
      },
      "execution_count": 17,
      "outputs": []
    },
    {
      "cell_type": "code",
      "source": [
        "# tok.index_word\n",
        "# tok.word_index"
      ],
      "metadata": {
        "id": "-xAhGSqA94ts"
      },
      "execution_count": 20,
      "outputs": []
    },
    {
      "cell_type": "code",
      "source": [
        "# 2. sequenize: 文字化成數字(數字最大值:3000)\n",
        "x_train_seq = tok.texts_to_sequences(train_df[\"content\"])\n",
        "x_test_seq = tok.texts_to_sequences(test_df[\"content\"])\n",
        "pd.DataFrame(x_train_seq)"
      ],
      "metadata": {
        "id": "4DMz-d2A-QZc"
      },
      "execution_count": null,
      "outputs": []
    },
    {
      "cell_type": "code",
      "source": [
        "# 3. padding: 變成一樣長\n",
        "from tensorflow.keras.preprocessing.sequence import pad_sequences\n",
        "x_train_pad = pad_sequences(x_train_seq, maxlen=512)\n",
        "x_test_pad = pad_sequences(x_test_seq, maxlen=512)\n",
        "pd.DataFrame(x_train_pad)"
      ],
      "metadata": {
        "id": "A8PT-Sg2AlsN"
      },
      "execution_count": null,
      "outputs": []
    },
    {
      "cell_type": "code",
      "source": [
        "from tensorflow.keras.models import Sequential\n",
        "from tensorflow.keras.layers import Embedding, GlobalAveragePooling1D, Dense\n",
        "\n",
        "layers = [\n",
        "    # 3001(種) * 128(情緒) -> 384128\n",
        "    Embedding(3001, 128, mask_zero=True, input_length=512),\n",
        "    GlobalAveragePooling1D(),\n",
        "    Dense(2, activation=\"softmax\")\n",
        "]\n",
        "model = Sequential(layers)\n",
        "model.summary()"
      ],
      "metadata": {
        "id": "k7MpGrZbClGM"
      },
      "execution_count": null,
      "outputs": []
    },
    {
      "cell_type": "code",
      "source": [
        "# 不用做one-hot\n",
        "from tensorflow.keras.losses import SparseCategoricalCrossentropy\n",
        "model.compile(loss=SparseCategoricalCrossentropy(),\n",
        "              optimizer=\"adam\",\n",
        "              metrics=[\"accuracy\"])\n"
      ],
      "metadata": {
        "id": "M6bDDv3OGBK-"
      },
      "execution_count": 28,
      "outputs": []
    },
    {
      "cell_type": "code",
      "source": [
        "import numpy as np\n",
        "y_train = np.array(train_df[\"sentiment\"])\n",
        "y_test = np.array(test_df[\"sentiment\"])"
      ],
      "metadata": {
        "id": "8dQkIB9kGNJl"
      },
      "execution_count": 29,
      "outputs": []
    },
    {
      "cell_type": "code",
      "source": [
        "# 1 round: 54000 / 100 -> 540次梯度下降\n",
        "# verbose: 0(quiet) 1(full) 2(no progress bar)\n",
        "from tensorflow.keras.callbacks import EarlyStopping, ModelCheckpoint\n",
        "callbacks = [\n",
        "    ModelCheckpoint(\"imdb.h5\", save_best_only=True),\n",
        "    EarlyStopping(patience=5, restore_best_weights=True)\n",
        "]\n",
        "model.fit(x_train_pad,\n",
        "          y_train,\n",
        "          batch_size=100,\n",
        "          epochs=100,\n",
        "          verbose=2,\n",
        "          validation_split=0.1,\n",
        "          callbacks=callbacks)"
      ],
      "metadata": {
        "colab": {
          "base_uri": "https://localhost:8080/"
        },
        "id": "2Qbnx2waGJEF",
        "outputId": "d5e8a952-3cbf-4081-8c16-33e42083b016"
      },
      "execution_count": 30,
      "outputs": [
        {
          "output_type": "stream",
          "name": "stdout",
          "text": [
            "Epoch 1/100\n",
            "225/225 - 9s - loss: 0.5676 - accuracy: 0.7234 - val_loss: 0.5088 - val_accuracy: 0.7620 - 9s/epoch - 38ms/step\n",
            "Epoch 2/100\n",
            "225/225 - 8s - loss: 0.3583 - accuracy: 0.8656 - val_loss: 0.3659 - val_accuracy: 0.8404 - 8s/epoch - 34ms/step\n",
            "Epoch 3/100\n",
            "225/225 - 7s - loss: 0.2904 - accuracy: 0.8894 - val_loss: 0.3370 - val_accuracy: 0.8528 - 7s/epoch - 33ms/step\n",
            "Epoch 4/100\n",
            "225/225 - 7s - loss: 0.2596 - accuracy: 0.8995 - val_loss: 0.3767 - val_accuracy: 0.8360 - 7s/epoch - 33ms/step\n",
            "Epoch 5/100\n",
            "225/225 - 7s - loss: 0.2414 - accuracy: 0.9063 - val_loss: 0.3254 - val_accuracy: 0.8632 - 7s/epoch - 33ms/step\n",
            "Epoch 6/100\n",
            "225/225 - 8s - loss: 0.2287 - accuracy: 0.9116 - val_loss: 0.3021 - val_accuracy: 0.8780 - 8s/epoch - 34ms/step\n",
            "Epoch 7/100\n",
            "225/225 - 7s - loss: 0.2199 - accuracy: 0.9160 - val_loss: 0.3479 - val_accuracy: 0.8576 - 7s/epoch - 33ms/step\n",
            "Epoch 8/100\n",
            "225/225 - 7s - loss: 0.2131 - accuracy: 0.9190 - val_loss: 0.3485 - val_accuracy: 0.8604 - 7s/epoch - 33ms/step\n",
            "Epoch 9/100\n",
            "225/225 - 7s - loss: 0.2080 - accuracy: 0.9211 - val_loss: 0.3406 - val_accuracy: 0.8668 - 7s/epoch - 33ms/step\n",
            "Epoch 10/100\n",
            "225/225 - 8s - loss: 0.2031 - accuracy: 0.9228 - val_loss: 0.3582 - val_accuracy: 0.8596 - 8s/epoch - 33ms/step\n",
            "Epoch 11/100\n",
            "225/225 - 7s - loss: 0.1997 - accuracy: 0.9239 - val_loss: 0.3253 - val_accuracy: 0.8768 - 7s/epoch - 33ms/step\n"
          ]
        },
        {
          "output_type": "execute_result",
          "data": {
            "text/plain": [
              "<keras.callbacks.History at 0x7f2a27a9bb90>"
            ]
          },
          "metadata": {},
          "execution_count": 30
        }
      ]
    },
    {
      "cell_type": "code",
      "source": [
        "model.evaluate(x_test_pad, y_test)"
      ],
      "metadata": {
        "colab": {
          "base_uri": "https://localhost:8080/"
        },
        "id": "KFFSdKX7GiEM",
        "outputId": "492559e3-9483-40aa-cb3b-9b260e3b10a7"
      },
      "execution_count": 32,
      "outputs": [
        {
          "output_type": "stream",
          "name": "stdout",
          "text": [
            "782/782 [==============================] - 5s 7ms/step - loss: 0.2892 - accuracy: 0.8817\n"
          ]
        },
        {
          "output_type": "execute_result",
          "data": {
            "text/plain": [
              "[0.2892310321331024, 0.8817200064659119]"
            ]
          },
          "metadata": {},
          "execution_count": 32
        }
      ]
    }
  ]
}