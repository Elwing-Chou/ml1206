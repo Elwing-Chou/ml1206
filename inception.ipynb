{
  "nbformat": 4,
  "nbformat_minor": 0,
  "metadata": {
    "colab": {
      "name": "inception.ipynb",
      "provenance": [],
      "authorship_tag": "ABX9TyM7uLhcdJXJElqoumaW03BM",
      "include_colab_link": true
    },
    "kernelspec": {
      "name": "python3",
      "display_name": "Python 3"
    },
    "language_info": {
      "name": "python"
    }
  },
  "cells": [
    {
      "cell_type": "markdown",
      "metadata": {
        "id": "view-in-github",
        "colab_type": "text"
      },
      "source": [
        "<a href=\"https://colab.research.google.com/github/Elwing-Chou/ml1206/blob/main/inception.ipynb\" target=\"_parent\"><img src=\"https://colab.research.google.com/assets/colab-badge.svg\" alt=\"Open In Colab\"/></a>"
      ]
    },
    {
      "cell_type": "code",
      "execution_count": null,
      "metadata": {
        "id": "cIx5_3DV1y5u"
      },
      "outputs": [],
      "source": [
        "from tensorflow.keras.applications.inception_v3 import InceptionV3\n",
        "model = InceptionV3(include_top=False, input_shape=(224, 224, 3))\n",
        "model.summary()"
      ]
    },
    {
      "cell_type": "code",
      "source": [
        "from tensorflow.keras.utils import plot_model\n",
        "plot_model(model, show_shapes=True, to_file=\"inception.png\")"
      ],
      "metadata": {
        "id": "EwWs8nTx2M-B"
      },
      "execution_count": null,
      "outputs": []
    },
    {
      "cell_type": "code",
      "source": [
        "# 右一: 64個1x1conv\n",
        "w = model.get_layer(\"conv2d_5\").get_weights()[0]\n",
        "w.shape"
      ],
      "metadata": {
        "colab": {
          "base_uri": "https://localhost:8080/"
        },
        "id": "HpbnNXkB32hV",
        "outputId": "4ec5004f-6d73-4f25-8aef-b5c1fa088c0a"
      },
      "execution_count": 8,
      "outputs": [
        {
          "output_type": "execute_result",
          "data": {
            "text/plain": [
              "(1, 1, 192, 64)"
            ]
          },
          "metadata": {},
          "execution_count": 8
        }
      ]
    },
    {
      "cell_type": "code",
      "source": [
        "# 右二: 模糊化 -> 32個1x1conv\n",
        "w = model.get_layer(\"conv2d_11\").get_weights()[0]\n",
        "w.shape"
      ],
      "metadata": {
        "colab": {
          "base_uri": "https://localhost:8080/"
        },
        "id": "Z9QEbCSj5Gj0",
        "outputId": "4599ca23-21b3-4baf-f0a6-fc549c719d04"
      },
      "execution_count": 9,
      "outputs": [
        {
          "output_type": "execute_result",
          "data": {
            "text/plain": [
              "(1, 1, 192, 32)"
            ]
          },
          "metadata": {},
          "execution_count": 9
        }
      ]
    },
    {
      "cell_type": "code",
      "source": [
        "# 右三: 48個1x1conv(減低計算量)->64個5x5conv\n",
        "w = model.get_layer(\"conv2d_6\").get_weights()[0]\n",
        "print(w.shape)\n",
        "w = model.get_layer(\"conv2d_7\").get_weights()[0]\n",
        "print(w.shape)"
      ],
      "metadata": {
        "colab": {
          "base_uri": "https://localhost:8080/"
        },
        "id": "YgeRpeSN5eSa",
        "outputId": "5a861cbe-e7cd-4174-a1d2-e843f34e23c0"
      },
      "execution_count": 10,
      "outputs": [
        {
          "output_type": "stream",
          "name": "stdout",
          "text": [
            "(1, 1, 192, 48)\n",
            "(5, 5, 48, 64)\n"
          ]
        }
      ]
    },
    {
      "cell_type": "code",
      "source": [
        "# 右四: 64個1x1conv->96個3x3conv->96個3x3conv\n",
        "w = model.get_layer(\"conv2d_8\").get_weights()[0]\n",
        "print(w.shape)\n",
        "w = model.get_layer(\"conv2d_9\").get_weights()[0]\n",
        "print(w.shape)\n",
        "w = model.get_layer(\"conv2d_10\").get_weights()[0]\n",
        "print(w.shape)"
      ],
      "metadata": {
        "colab": {
          "base_uri": "https://localhost:8080/"
        },
        "id": "FskmWs2B6nq6",
        "outputId": "e0c2e176-1232-4eb8-f55a-3d15c63c8cff"
      },
      "execution_count": 11,
      "outputs": [
        {
          "output_type": "stream",
          "name": "stdout",
          "text": [
            "(1, 1, 192, 64)\n",
            "(3, 3, 64, 96)\n",
            "(3, 3, 96, 96)\n"
          ]
        }
      ]
    }
  ]
}